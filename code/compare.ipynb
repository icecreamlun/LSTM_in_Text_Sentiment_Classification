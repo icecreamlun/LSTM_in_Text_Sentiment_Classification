{
  "cells": [
    {
      "cell_type": "code",
      "source": [
        "!pip install scikit-learn --upgrade"
      ],
      "metadata": {
        "colab": {
          "base_uri": "https://localhost:8080/"
        },
        "id": "tX6XWmLAVP_Y",
        "outputId": "6d163b9f-72c4-4c2e-9185-4be5133e2dd7"
      },
      "execution_count": 1,
      "outputs": [
        {
          "output_type": "stream",
          "name": "stdout",
          "text": [
            "Requirement already satisfied: scikit-learn in /usr/local/lib/python3.10/dist-packages (1.6.0)\n",
            "Requirement already satisfied: numpy>=1.19.5 in /usr/local/lib/python3.10/dist-packages (from scikit-learn) (1.26.4)\n",
            "Requirement already satisfied: scipy>=1.6.0 in /usr/local/lib/python3.10/dist-packages (from scikit-learn) (1.13.1)\n",
            "Requirement already satisfied: joblib>=1.2.0 in /usr/local/lib/python3.10/dist-packages (from scikit-learn) (1.4.2)\n",
            "Requirement already satisfied: threadpoolctl>=3.1.0 in /usr/local/lib/python3.10/dist-packages (from scikit-learn) (3.5.0)\n"
          ]
        }
      ]
    },
    {
      "cell_type": "code",
      "execution_count": 1,
      "metadata": {
        "id": "vx897dSKRFMH"
      },
      "outputs": [],
      "source": [
        "import pandas as pd\n",
        "import seaborn as sns\n",
        "import numpy as np\n",
        "import matplotlib.pyplot as plt\n",
        "import nltk\n",
        "\n",
        "# Bag of words and Tokenizer\n",
        "from nltk.tokenize import sent_tokenize\n",
        "from nltk.tokenize import RegexpTokenizer\n",
        "from nltk.tokenize import TweetTokenizer\n",
        "from sklearn.feature_extraction.text import CountVectorizer\n",
        "from sklearn.feature_extraction.text import TfidfVectorizer  # TF-IDF\n",
        "from sklearn.preprocessing import label_binarize\n",
        "\n",
        "# Classification methods\n",
        "from sklearn.naive_bayes import MultinomialNB   # Naive Bayes\n",
        "from sklearn.tree import DecisionTreeClassifier  # Decision Tree\n",
        "from sklearn.neural_network import MLPClassifier # Multi-Layer Perceptron\n",
        "from sklearn.neighbors import KNeighborsClassifier # KNN\n",
        "\n",
        "\n",
        "# Import scikit-learn metrics module for accuracy calculation\n",
        "from sklearn import metrics"
      ]
    },
    {
      "cell_type": "markdown",
      "metadata": {
        "id": "o77LX3S3RFMI"
      },
      "source": [
        "### Training data"
      ]
    },
    {
      "cell_type": "code",
      "execution_count": 2,
      "metadata": {
        "colab": {
          "base_uri": "https://localhost:8080/",
          "height": 206
        },
        "id": "EXCaGruARFMJ",
        "outputId": "e981dcff-5ae6-4520-819b-2972871c576f"
      },
      "outputs": [
        {
          "output_type": "execute_result",
          "data": {
            "text/plain": [
              "                                                text label       id\n",
              "0  My favourite food is anything I didn't have to...    27  eebbqej\n",
              "1  Now if he does off himself, everyone will thin...    27  ed00q6i\n",
              "2                     WHY THE FUCK IS BAYLESS ISOING     2  eezlygj\n",
              "3                        To make her feel threatened    14  ed7ypvh\n",
              "4                             Dirty Southern Wankers     3  ed0bdzj"
            ],
            "text/html": [
              "\n",
              "  <div id=\"df-42a1ac6c-f5d9-4fd7-a6ad-63b8b5ded6d6\" class=\"colab-df-container\">\n",
              "    <div>\n",
              "<style scoped>\n",
              "    .dataframe tbody tr th:only-of-type {\n",
              "        vertical-align: middle;\n",
              "    }\n",
              "\n",
              "    .dataframe tbody tr th {\n",
              "        vertical-align: top;\n",
              "    }\n",
              "\n",
              "    .dataframe thead th {\n",
              "        text-align: right;\n",
              "    }\n",
              "</style>\n",
              "<table border=\"1\" class=\"dataframe\">\n",
              "  <thead>\n",
              "    <tr style=\"text-align: right;\">\n",
              "      <th></th>\n",
              "      <th>text</th>\n",
              "      <th>label</th>\n",
              "      <th>id</th>\n",
              "    </tr>\n",
              "  </thead>\n",
              "  <tbody>\n",
              "    <tr>\n",
              "      <th>0</th>\n",
              "      <td>My favourite food is anything I didn't have to...</td>\n",
              "      <td>27</td>\n",
              "      <td>eebbqej</td>\n",
              "    </tr>\n",
              "    <tr>\n",
              "      <th>1</th>\n",
              "      <td>Now if he does off himself, everyone will thin...</td>\n",
              "      <td>27</td>\n",
              "      <td>ed00q6i</td>\n",
              "    </tr>\n",
              "    <tr>\n",
              "      <th>2</th>\n",
              "      <td>WHY THE FUCK IS BAYLESS ISOING</td>\n",
              "      <td>2</td>\n",
              "      <td>eezlygj</td>\n",
              "    </tr>\n",
              "    <tr>\n",
              "      <th>3</th>\n",
              "      <td>To make her feel threatened</td>\n",
              "      <td>14</td>\n",
              "      <td>ed7ypvh</td>\n",
              "    </tr>\n",
              "    <tr>\n",
              "      <th>4</th>\n",
              "      <td>Dirty Southern Wankers</td>\n",
              "      <td>3</td>\n",
              "      <td>ed0bdzj</td>\n",
              "    </tr>\n",
              "  </tbody>\n",
              "</table>\n",
              "</div>\n",
              "    <div class=\"colab-df-buttons\">\n",
              "\n",
              "  <div class=\"colab-df-container\">\n",
              "    <button class=\"colab-df-convert\" onclick=\"convertToInteractive('df-42a1ac6c-f5d9-4fd7-a6ad-63b8b5ded6d6')\"\n",
              "            title=\"Convert this dataframe to an interactive table.\"\n",
              "            style=\"display:none;\">\n",
              "\n",
              "  <svg xmlns=\"http://www.w3.org/2000/svg\" height=\"24px\" viewBox=\"0 -960 960 960\">\n",
              "    <path d=\"M120-120v-720h720v720H120Zm60-500h600v-160H180v160Zm220 220h160v-160H400v160Zm0 220h160v-160H400v160ZM180-400h160v-160H180v160Zm440 0h160v-160H620v160ZM180-180h160v-160H180v160Zm440 0h160v-160H620v160Z\"/>\n",
              "  </svg>\n",
              "    </button>\n",
              "\n",
              "  <style>\n",
              "    .colab-df-container {\n",
              "      display:flex;\n",
              "      gap: 12px;\n",
              "    }\n",
              "\n",
              "    .colab-df-convert {\n",
              "      background-color: #E8F0FE;\n",
              "      border: none;\n",
              "      border-radius: 50%;\n",
              "      cursor: pointer;\n",
              "      display: none;\n",
              "      fill: #1967D2;\n",
              "      height: 32px;\n",
              "      padding: 0 0 0 0;\n",
              "      width: 32px;\n",
              "    }\n",
              "\n",
              "    .colab-df-convert:hover {\n",
              "      background-color: #E2EBFA;\n",
              "      box-shadow: 0px 1px 2px rgba(60, 64, 67, 0.3), 0px 1px 3px 1px rgba(60, 64, 67, 0.15);\n",
              "      fill: #174EA6;\n",
              "    }\n",
              "\n",
              "    .colab-df-buttons div {\n",
              "      margin-bottom: 4px;\n",
              "    }\n",
              "\n",
              "    [theme=dark] .colab-df-convert {\n",
              "      background-color: #3B4455;\n",
              "      fill: #D2E3FC;\n",
              "    }\n",
              "\n",
              "    [theme=dark] .colab-df-convert:hover {\n",
              "      background-color: #434B5C;\n",
              "      box-shadow: 0px 1px 3px 1px rgba(0, 0, 0, 0.15);\n",
              "      filter: drop-shadow(0px 1px 2px rgba(0, 0, 0, 0.3));\n",
              "      fill: #FFFFFF;\n",
              "    }\n",
              "  </style>\n",
              "\n",
              "    <script>\n",
              "      const buttonEl =\n",
              "        document.querySelector('#df-42a1ac6c-f5d9-4fd7-a6ad-63b8b5ded6d6 button.colab-df-convert');\n",
              "      buttonEl.style.display =\n",
              "        google.colab.kernel.accessAllowed ? 'block' : 'none';\n",
              "\n",
              "      async function convertToInteractive(key) {\n",
              "        const element = document.querySelector('#df-42a1ac6c-f5d9-4fd7-a6ad-63b8b5ded6d6');\n",
              "        const dataTable =\n",
              "          await google.colab.kernel.invokeFunction('convertToInteractive',\n",
              "                                                    [key], {});\n",
              "        if (!dataTable) return;\n",
              "\n",
              "        const docLinkHtml = 'Like what you see? Visit the ' +\n",
              "          '<a target=\"_blank\" href=https://colab.research.google.com/notebooks/data_table.ipynb>data table notebook</a>'\n",
              "          + ' to learn more about interactive tables.';\n",
              "        element.innerHTML = '';\n",
              "        dataTable['output_type'] = 'display_data';\n",
              "        await google.colab.output.renderOutput(dataTable, element);\n",
              "        const docLink = document.createElement('div');\n",
              "        docLink.innerHTML = docLinkHtml;\n",
              "        element.appendChild(docLink);\n",
              "      }\n",
              "    </script>\n",
              "  </div>\n",
              "\n",
              "\n",
              "<div id=\"df-de20f111-9294-4c49-8776-fb4ad11058f4\">\n",
              "  <button class=\"colab-df-quickchart\" onclick=\"quickchart('df-de20f111-9294-4c49-8776-fb4ad11058f4')\"\n",
              "            title=\"Suggest charts\"\n",
              "            style=\"display:none;\">\n",
              "\n",
              "<svg xmlns=\"http://www.w3.org/2000/svg\" height=\"24px\"viewBox=\"0 0 24 24\"\n",
              "     width=\"24px\">\n",
              "    <g>\n",
              "        <path d=\"M19 3H5c-1.1 0-2 .9-2 2v14c0 1.1.9 2 2 2h14c1.1 0 2-.9 2-2V5c0-1.1-.9-2-2-2zM9 17H7v-7h2v7zm4 0h-2V7h2v10zm4 0h-2v-4h2v4z\"/>\n",
              "    </g>\n",
              "</svg>\n",
              "  </button>\n",
              "\n",
              "<style>\n",
              "  .colab-df-quickchart {\n",
              "      --bg-color: #E8F0FE;\n",
              "      --fill-color: #1967D2;\n",
              "      --hover-bg-color: #E2EBFA;\n",
              "      --hover-fill-color: #174EA6;\n",
              "      --disabled-fill-color: #AAA;\n",
              "      --disabled-bg-color: #DDD;\n",
              "  }\n",
              "\n",
              "  [theme=dark] .colab-df-quickchart {\n",
              "      --bg-color: #3B4455;\n",
              "      --fill-color: #D2E3FC;\n",
              "      --hover-bg-color: #434B5C;\n",
              "      --hover-fill-color: #FFFFFF;\n",
              "      --disabled-bg-color: #3B4455;\n",
              "      --disabled-fill-color: #666;\n",
              "  }\n",
              "\n",
              "  .colab-df-quickchart {\n",
              "    background-color: var(--bg-color);\n",
              "    border: none;\n",
              "    border-radius: 50%;\n",
              "    cursor: pointer;\n",
              "    display: none;\n",
              "    fill: var(--fill-color);\n",
              "    height: 32px;\n",
              "    padding: 0;\n",
              "    width: 32px;\n",
              "  }\n",
              "\n",
              "  .colab-df-quickchart:hover {\n",
              "    background-color: var(--hover-bg-color);\n",
              "    box-shadow: 0 1px 2px rgba(60, 64, 67, 0.3), 0 1px 3px 1px rgba(60, 64, 67, 0.15);\n",
              "    fill: var(--button-hover-fill-color);\n",
              "  }\n",
              "\n",
              "  .colab-df-quickchart-complete:disabled,\n",
              "  .colab-df-quickchart-complete:disabled:hover {\n",
              "    background-color: var(--disabled-bg-color);\n",
              "    fill: var(--disabled-fill-color);\n",
              "    box-shadow: none;\n",
              "  }\n",
              "\n",
              "  .colab-df-spinner {\n",
              "    border: 2px solid var(--fill-color);\n",
              "    border-color: transparent;\n",
              "    border-bottom-color: var(--fill-color);\n",
              "    animation:\n",
              "      spin 1s steps(1) infinite;\n",
              "  }\n",
              "\n",
              "  @keyframes spin {\n",
              "    0% {\n",
              "      border-color: transparent;\n",
              "      border-bottom-color: var(--fill-color);\n",
              "      border-left-color: var(--fill-color);\n",
              "    }\n",
              "    20% {\n",
              "      border-color: transparent;\n",
              "      border-left-color: var(--fill-color);\n",
              "      border-top-color: var(--fill-color);\n",
              "    }\n",
              "    30% {\n",
              "      border-color: transparent;\n",
              "      border-left-color: var(--fill-color);\n",
              "      border-top-color: var(--fill-color);\n",
              "      border-right-color: var(--fill-color);\n",
              "    }\n",
              "    40% {\n",
              "      border-color: transparent;\n",
              "      border-right-color: var(--fill-color);\n",
              "      border-top-color: var(--fill-color);\n",
              "    }\n",
              "    60% {\n",
              "      border-color: transparent;\n",
              "      border-right-color: var(--fill-color);\n",
              "    }\n",
              "    80% {\n",
              "      border-color: transparent;\n",
              "      border-right-color: var(--fill-color);\n",
              "      border-bottom-color: var(--fill-color);\n",
              "    }\n",
              "    90% {\n",
              "      border-color: transparent;\n",
              "      border-bottom-color: var(--fill-color);\n",
              "    }\n",
              "  }\n",
              "</style>\n",
              "\n",
              "  <script>\n",
              "    async function quickchart(key) {\n",
              "      const quickchartButtonEl =\n",
              "        document.querySelector('#' + key + ' button');\n",
              "      quickchartButtonEl.disabled = true;  // To prevent multiple clicks.\n",
              "      quickchartButtonEl.classList.add('colab-df-spinner');\n",
              "      try {\n",
              "        const charts = await google.colab.kernel.invokeFunction(\n",
              "            'suggestCharts', [key], {});\n",
              "      } catch (error) {\n",
              "        console.error('Error during call to suggestCharts:', error);\n",
              "      }\n",
              "      quickchartButtonEl.classList.remove('colab-df-spinner');\n",
              "      quickchartButtonEl.classList.add('colab-df-quickchart-complete');\n",
              "    }\n",
              "    (() => {\n",
              "      let quickchartButtonEl =\n",
              "        document.querySelector('#df-de20f111-9294-4c49-8776-fb4ad11058f4 button');\n",
              "      quickchartButtonEl.style.display =\n",
              "        google.colab.kernel.accessAllowed ? 'block' : 'none';\n",
              "    })();\n",
              "  </script>\n",
              "</div>\n",
              "\n",
              "    </div>\n",
              "  </div>\n"
            ],
            "application/vnd.google.colaboratory.intrinsic+json": {
              "type": "dataframe",
              "variable_name": "rdfTrain",
              "summary": "{\n  \"name\": \"rdfTrain\",\n  \"rows\": 43410,\n  \"fields\": [\n    {\n      \"column\": \"text\",\n      \"properties\": {\n        \"dtype\": \"string\",\n        \"num_unique_values\": 43227,\n        \"samples\": [\n          \"> lack of diversity in the cast now that's a new one lmao\",\n          \"Human trafficking is bad.\",\n          \"If I get another dog imma name it after a [NAME] song SO FUCKING CUUUUTE\"\n        ],\n        \"semantic_type\": \"\",\n        \"description\": \"\"\n      }\n    },\n    {\n      \"column\": \"label\",\n      \"properties\": {\n        \"dtype\": \"category\",\n        \"num_unique_values\": 711,\n        \"samples\": [\n          \"1,11,20\",\n          \"3,14\",\n          \"0,4,5,17\"\n        ],\n        \"semantic_type\": \"\",\n        \"description\": \"\"\n      }\n    },\n    {\n      \"column\": \"id\",\n      \"properties\": {\n        \"dtype\": \"string\",\n        \"num_unique_values\": 43410,\n        \"samples\": [\n          \"edupnyh\",\n          \"ediy7lp\",\n          \"edv791a\"\n        ],\n        \"semantic_type\": \"\",\n        \"description\": \"\"\n      }\n    }\n  ]\n}"
            }
          },
          "metadata": {},
          "execution_count": 2
        }
      ],
      "source": [
        "data_path = '/content/data/'\n",
        "rdfTrain = pd.read_csv(data_path + 'train.tsv', sep = '\\t', header = None, names = ['text', 'label', 'id'])\n",
        "rdfTrain.head()"
      ]
    },
    {
      "cell_type": "markdown",
      "metadata": {
        "id": "QRXJPTZNRFMJ"
      },
      "source": [
        "### Dev data"
      ]
    },
    {
      "cell_type": "code",
      "execution_count": 3,
      "metadata": {
        "colab": {
          "base_uri": "https://localhost:8080/"
        },
        "id": "5WbAk9dgRFMJ",
        "outputId": "27d998cc-7054-4192-e27b-a76eb4242d0c"
      },
      "outputs": [
        {
          "output_type": "stream",
          "name": "stdout",
          "text": [
            "<class 'pandas.core.frame.DataFrame'>\n",
            "RangeIndex: 5426 entries, 0 to 5425\n",
            "Data columns (total 3 columns):\n",
            " #   Column  Non-Null Count  Dtype \n",
            "---  ------  --------------  ----- \n",
            " 0   text    5426 non-null   object\n",
            " 1   label   5426 non-null   object\n",
            " 2   id      5426 non-null   object\n",
            "dtypes: object(3)\n",
            "memory usage: 127.3+ KB\n"
          ]
        }
      ],
      "source": [
        "# validation set\n",
        "data_path = '/content/data/'\n",
        "rdfDev = pd.read_csv(data_path + 'dev.tsv', sep = '\\t', header = None, names = ['text', 'label', 'id'])\n",
        "rdfDev.info()"
      ]
    },
    {
      "cell_type": "markdown",
      "metadata": {
        "id": "ckRTkLa0RFMJ"
      },
      "source": [
        "#### Neutral/Non-neutral"
      ]
    },
    {
      "cell_type": "code",
      "execution_count": 4,
      "metadata": {
        "id": "nBZ9BmixRFMJ"
      },
      "outputs": [],
      "source": [
        "def label_neutral(row):\n",
        "    if row['label'] == '27':\n",
        "        return 1\n",
        "    else:\n",
        "        return 0"
      ]
    },
    {
      "cell_type": "markdown",
      "metadata": {
        "id": "4chk7S5WRFMJ"
      },
      "source": [
        "#### 3 categories: Positive, negative and Neutral"
      ]
    },
    {
      "cell_type": "code",
      "execution_count": 5,
      "metadata": {
        "id": "wnp_NeTORFMK"
      },
      "outputs": [],
      "source": [
        "pos_labels = ['admiration','approval', 'amusement', 'caring', 'desire',\n",
        "              'excitement', 'gratitude', 'joy', 'love','optimism', 'pride', 'relief']\n",
        "neg_labels = ['anger', 'annoyance', 'disappointment', 'disapproval', 'disgust',\n",
        "              'embarrassment','fear', 'grief', 'nervousness', 'remorse', 'sadness']\n",
        "ambi_labels = ['confusion', 'curiosity', 'realization', 'surprise']"
      ]
    },
    {
      "cell_type": "code",
      "execution_count": 6,
      "metadata": {
        "id": "9Q-uQbRiRFMK"
      },
      "outputs": [],
      "source": [
        "emotion_to_idx = {\n",
        "    'admiration' : '0',\n",
        "    'amusement' : '1',\n",
        "    'anger' : '2',\n",
        "    'annoyance' : '3',\n",
        "    'approval' : '4',\n",
        "    'caring' : '5',\n",
        "    'confusion' : '6',\n",
        "    'curiosity' : '7',\n",
        "    'desire' : '8',\n",
        "    'disappointment' : '9',\n",
        "    'disapproval' : '10',\n",
        "    'disgust' : '11',\n",
        "    'embarrassment' : '12',\n",
        "    'excitement' : '13',\n",
        "    'fear' : '14',\n",
        "    'gratitude' : '15',\n",
        "    'grief' : '16',\n",
        "    'joy' : '17',\n",
        "    'love' : '18',\n",
        "    'nervousness' : '19',\n",
        "    'optimism' : '20',\n",
        "    'pride' : '21',\n",
        "    'realization' : '22',\n",
        "    'relief' : '23',\n",
        "    'remorse' : '24',\n",
        "    'sadness' : '25',\n",
        "    'surprise' : '26',\n",
        "    'neutral' : '27'\n",
        "}"
      ]
    },
    {
      "cell_type": "code",
      "execution_count": 7,
      "metadata": {
        "colab": {
          "base_uri": "https://localhost:8080/"
        },
        "id": "jf4ApbJERFMK",
        "outputId": "aa25f72c-bf48-42b7-f567-7a9c56e6baa1"
      },
      "outputs": [
        {
          "output_type": "execute_result",
          "data": {
            "text/plain": [
              "{'0': 'admiration',\n",
              " '1': 'amusement',\n",
              " '2': 'anger',\n",
              " '3': 'annoyance',\n",
              " '4': 'approval',\n",
              " '5': 'caring',\n",
              " '6': 'confusion',\n",
              " '7': 'curiosity',\n",
              " '8': 'desire',\n",
              " '9': 'disappointment',\n",
              " '10': 'disapproval',\n",
              " '11': 'disgust',\n",
              " '12': 'embarrassment',\n",
              " '13': 'excitement',\n",
              " '14': 'fear',\n",
              " '15': 'gratitude',\n",
              " '16': 'grief',\n",
              " '17': 'joy',\n",
              " '18': 'love',\n",
              " '19': 'nervousness',\n",
              " '20': 'optimism',\n",
              " '21': 'pride',\n",
              " '22': 'realization',\n",
              " '23': 'relief',\n",
              " '24': 'remorse',\n",
              " '25': 'sadness',\n",
              " '26': 'surprise',\n",
              " '27': 'neutral'}"
            ]
          },
          "metadata": {},
          "execution_count": 7
        }
      ],
      "source": [
        "label_to_emotion = {j:i for i, j in emotion_to_idx.items()}\n",
        "label_to_emotion"
      ]
    },
    {
      "cell_type": "code",
      "execution_count": 8,
      "metadata": {
        "id": "_Mu0nX97RFMK"
      },
      "outputs": [],
      "source": [
        "def label_pos_neg_neutral(row):\n",
        "    '''\n",
        "    Sentiment Analysis label:\n",
        "    0 - Negative\n",
        "    1 - Positive\n",
        "    2 - Neutral/Ambigous\n",
        "    '''\n",
        "    sentiment = [0, 0, 0]\n",
        "    labels = row['label'].split(\",\")\n",
        "    for l in labels:\n",
        "        label = label_to_emotion[l]\n",
        "        if label in pos_labels:\n",
        "            sentiment[1] += 1\n",
        "        elif label in neg_labels:\n",
        "            sentiment[0] += 1\n",
        "        else:\n",
        "            sentiment[2] += 1\n",
        "    return np.argmax(np.array(sentiment))"
      ]
    },
    {
      "cell_type": "code",
      "execution_count": 9,
      "metadata": {
        "id": "vWa1fO8oRFMK"
      },
      "outputs": [],
      "source": [
        "anger_list = [ \"anger\", \"annoyance\", \"disapproval\", \"disgust\"]\n",
        "fear_list = [\"fear\", \"nervousness\"]\n",
        "joy_list = [\"joy\", \"amusement\", \"approval\", \"excitement\", \"gratitude\",\"love\", \"optimism\", \"relief\", \"pride\", \"admiration\", \"desire\", \"caring\"]\n",
        "sadness_list = [\"sadness\", \"disappointment\", \"embarrassment\", \"grief\", \"remorse\"]\n",
        "surprise_list = [\"surprise\", \"realization\", \"confusion\", \"curiosity\"]"
      ]
    },
    {
      "cell_type": "code",
      "execution_count": 10,
      "metadata": {
        "id": "TE_wCAh0RFMK"
      },
      "outputs": [],
      "source": [
        "def label_emotion_group(row):\n",
        "    '''\n",
        "    Groupping Emotion Label:\n",
        "    0 - Anger, 1 - Fear, 2- Joy,\n",
        "    3 - Sadness, 4 - Surprise, 5 - Neutral/Ambigous\n",
        "    '''\n",
        "    sentiment = [0]*6\n",
        "    labels = row['label'].split(\",\")\n",
        "    for l in labels:\n",
        "        if l == '27':\n",
        "            return 5 # Neutral\n",
        "\n",
        "        label = label_to_emotion[l]\n",
        "        if label in anger_list:\n",
        "            sentiment[0] += 1\n",
        "        elif label in fear_list:\n",
        "            sentiment[1] += 1\n",
        "        elif label in joy_list:\n",
        "            sentiment[2] += 1\n",
        "        elif label in sadness_list:\n",
        "            sentiment[3] += 1\n",
        "        elif label in surprise_list:\n",
        "            sentiment[4] += 1\n",
        "        else:\n",
        "            sentiment[5] += 1\n",
        "    return np.argmax(np.array(sentiment))"
      ]
    },
    {
      "cell_type": "code",
      "execution_count": 11,
      "metadata": {
        "id": "eSc7_btjRFMK"
      },
      "outputs": [],
      "source": [
        "def transformData(rdfTrain, rdfDev, n_categories = 2):\n",
        "\n",
        "    dfTrain, dfDev = rdfTrain, rdfDev\n",
        "    if n_categories == 2:\n",
        "        dfTrain[\"class_label\"] = dfTrain.apply(lambda row: label_neutral(row), axis = 1)\n",
        "        dfDev[\"class_label\"] = dfDev.apply(lambda row: label_neutral(row), axis = 1)\n",
        "\n",
        "    if n_categories == 3:\n",
        "        dfTrain[\"class_label\"] = dfTrain.apply(lambda row: label_pos_neg_neutral(row), axis = 1)\n",
        "        dfDev[\"class_label\"] = dfDev.apply(lambda row: label_pos_neg_neutral(row), axis = 1)\n",
        "\n",
        "    if n_categories == 6:\n",
        "        dfTrain[\"class_label\"] = dfTrain.apply(lambda row: label_emotion_group(row), axis = 1)\n",
        "        dfDev[\"class_label\"] = dfDev.apply(lambda row: label_emotion_group(row), axis = 1)\n",
        "\n",
        "    print(\"Training distribution: \", dfTrain.class_label.value_counts())\n",
        "    print(\"Dev data distribution: \", dfDev.class_label.value_counts())\n",
        "\n",
        "    return dfTrain, dfDev"
      ]
    },
    {
      "cell_type": "markdown",
      "metadata": {
        "id": "5bFBfy_nRFMK"
      },
      "source": [
        "#### Splitting data"
      ]
    },
    {
      "cell_type": "code",
      "execution_count": 12,
      "metadata": {
        "id": "dOoDLwHoRFMK"
      },
      "outputs": [],
      "source": [
        "def splitData(trainFeatures, devFeatures, dfTrain, dfDev):\n",
        "    xTrain, yTrain = trainFeatures, dfTrain['class_label']\n",
        "    xDev, yDev = devFeatures, dfDev['class_label']\n",
        "\n",
        "    print(\"Dev : \", xDev.shape, yDev.shape)\n",
        "    print(\"Train : \", xTrain.shape, yTrain.shape)\n",
        "\n",
        "    return xTrain, yTrain, xDev, yDev"
      ]
    },
    {
      "cell_type": "markdown",
      "metadata": {
        "id": "e-aoGDBYRFMK"
      },
      "source": [
        "#### Feature Generation - TFID & Bag of words"
      ]
    },
    {
      "cell_type": "code",
      "execution_count": 13,
      "metadata": {
        "id": "zR1AbVQMRFMK"
      },
      "outputs": [],
      "source": [
        "def featureGeneration(dfTrain, dfDev, method = 'BOW'):\n",
        "    if method == 'BOW':\n",
        "        #tokenizer to remove unwanted elements from out data like symbols and numbers\n",
        "#         token = RegexpTokenizer(r'[a-zA-Z0-9]+')\n",
        "        token = TweetTokenizer(strip_handles=True, reduce_len=True)\n",
        "        cv = CountVectorizer(lowercase=True, stop_words='english', ngram_range = (1,1), tokenizer = token.tokenize)\n",
        "        trainFeatures = cv.fit_transform(dfTrain['text'])\n",
        "        devFeatures = cv.transform(dfDev['text'])\n",
        "\n",
        "    if method == 'TF-IDF':\n",
        "        tf = TfidfVectorizer()\n",
        "        trainFeatures = tf.fit_transform(dfTrain['text'])\n",
        "        devFeatures = tf.transform(dfDev['text'])\n",
        "\n",
        "    return trainFeatures, devFeatures"
      ]
    },
    {
      "cell_type": "markdown",
      "metadata": {
        "id": "liSDnF78RFMK"
      },
      "source": [
        "#### Modelling - Naive Bayes"
      ]
    },
    {
      "cell_type": "code",
      "execution_count": 14,
      "metadata": {
        "id": "Y2oSstg2RFMK"
      },
      "outputs": [],
      "source": [
        "def naiveBayes(xTrain, yTrain, xDev, yDev):\n",
        "    # Model Generation Using Multinomial Naive Bayes\n",
        "    clf = MultinomialNB().fit(xTrain, yTrain)\n",
        "    predicted= clf.predict(xDev)\n",
        "    print(\"MultinomialNB Accuracy:\", metrics.accuracy_score(yDev, predicted))"
      ]
    },
    {
      "cell_type": "code",
      "execution_count": 27,
      "metadata": {
        "id": "cFXumRBGRFMK"
      },
      "outputs": [],
      "source": [
        "def model(xTrain, yTrain, xDev, yDev, method = 'Naive Bayes'):\n",
        "\n",
        "    num_classes = len(yTrain.unique())\n",
        "    print(\"Num classes: \", num_classes)\n",
        "\n",
        "    if method == 'Naive Bayes':\n",
        "        clf = MultinomialNB()\n",
        "\n",
        "    if method == 'Decision Trees':\n",
        "        clf = DecisionTreeClassifier()\n",
        "\n",
        "    if method == 'MLP':\n",
        "        clf = MLPClassifier()\n",
        "\n",
        "    if method == 'KNN':\n",
        "        clf = KNeighborsClassifier(n_neighbors=5)\n",
        "\n",
        "    clf = clf.fit(xTrain, yTrain)\n",
        "    predicted= clf.predict(xDev)\n",
        "\n",
        "#   Evaluation metrics\n",
        "\n",
        "    Y_test = label_binarize(yDev, classes=[0, 1, 2])\n",
        "    Y_score = label_binarize(predicted, classes=[0, 1, 2])\n",
        "\n",
        "    acc = metrics.accuracy_score(Y_test, Y_score)\n",
        "    precision = metrics.precision_score(Y_test, Y_score, average='macro')\n",
        "    recall = metrics.recall_score(Y_test, Y_score,average='macro' )\n",
        "    roc_auc = metrics.roc_auc_score(Y_test, Y_score,average='macro')\n",
        "\n",
        "    f1 = metrics.f1_score(Y_test, Y_score, average='macro')\n",
        "    confusion_matrix = metrics.confusion_matrix(yDev, predicted)\n",
        "\n",
        "    np_Y_test, np_Y_score = np.array(Y_test), np.array(Y_score)\n",
        "    idx = np.where(np_Y_test < 2)\n",
        "    np_Y_test = np_Y_test[idx]\n",
        "    np_Y_score = np_Y_score[idx]\n",
        "    print(np_Y_test.shape, np_Y_score.shape)\n",
        "    fpr, tpr, thresholds = metrics.roc_curve(np_Y_test, np_Y_score)\n",
        "    print(str(acc) + \"\\t\" + str(precision) + \"\\t\" + str(recall) + \"\\t\" + str(f1) + \"\\t\" + str(roc_auc))\n",
        "    print(confusion_matrix)\n",
        "\n",
        "    #     print(\"Accuracy:\", acc)\n",
        "    #     print(\"Precision:\", precision)\n",
        "    #     print(\"Recall:\", recall)\n",
        "    #     print(\"ROC AUC: \", roc_auc)\n",
        "    #     print(\"f1-score:\", f1)\n",
        "    #     print(\"Confusion Matrix: \\n\", confusion_matrix)\n",
        "    return clf, acc, precision, recall, roc_auc, f1, confusion_matrix, fpr, tpr, thresholds\n"
      ]
    },
    {
      "cell_type": "markdown",
      "metadata": {
        "id": "3o3sVQJhRFML"
      },
      "source": [
        "#### Testing"
      ]
    },
    {
      "cell_type": "code",
      "execution_count": 16,
      "metadata": {
        "colab": {
          "base_uri": "https://localhost:8080/"
        },
        "id": "sMq8iNNpRFML",
        "outputId": "c78c8aa4-9a33-472b-9910-bf2a14f923a8"
      },
      "outputs": [
        {
          "output_type": "stream",
          "name": "stdout",
          "text": [
            "Training distribution:  class_label\n",
            "2    17021\n",
            "1    16628\n",
            "0     9761\n",
            "Name: count, dtype: int64\n",
            "Dev data distribution:  class_label\n",
            "1    2106\n",
            "2    2096\n",
            "0    1224\n",
            "Name: count, dtype: int64\n"
          ]
        }
      ],
      "source": [
        "dfTrain, dfDev = transformData(rdfTrain, rdfDev, n_categories = 3)"
      ]
    },
    {
      "cell_type": "code",
      "execution_count": 17,
      "metadata": {
        "colab": {
          "base_uri": "https://localhost:8080/"
        },
        "id": "_-67wQ-yRFML",
        "outputId": "2b594c4e-43ba-4bfa-da07-8afa79f9223a"
      },
      "outputs": [
        {
          "output_type": "stream",
          "name": "stderr",
          "text": [
            "/usr/local/lib/python3.10/dist-packages/sklearn/feature_extraction/text.py:521: UserWarning: The parameter 'token_pattern' will not be used since 'tokenizer' is not None'\n",
            "  warnings.warn(\n"
          ]
        },
        {
          "output_type": "stream",
          "name": "stdout",
          "text": [
            "Dev :  (5426, 27774) (5426,)\n",
            "Train :  (43410, 27774) (43410,)\n"
          ]
        }
      ],
      "source": [
        "trainFeatures, devFeatures = featureGeneration(dfTrain, dfDev, method = 'BOW')\n",
        "xTrain, yTrain, xDev, yDev = splitData(trainFeatures, devFeatures, dfTrain, dfDev)"
      ]
    },
    {
      "cell_type": "code",
      "execution_count": 18,
      "metadata": {
        "scrolled": true,
        "colab": {
          "base_uri": "https://localhost:8080/"
        },
        "id": "1FpKTGqcRFML",
        "outputId": "4955ccbf-45d6-4cb8-b662-a886373b0dfe"
      },
      "outputs": [
        {
          "output_type": "stream",
          "name": "stdout",
          "text": [
            "Num classes:  3\n",
            "(16278,) (16278,)\n",
            "0.6444894950239587\t0.6350129472893912\t0.6132510170796605\t0.6174241641027123\t0.7134700171986642\n",
            "[[ 515  273  436]\n",
            " [ 107 1637  362]\n",
            " [ 231  520 1345]]\n"
          ]
        }
      ],
      "source": [
        "clf = model(xTrain, yTrain, xDev, yDev, method = 'Naive Bayes')"
      ]
    },
    {
      "cell_type": "code",
      "execution_count": 19,
      "metadata": {
        "colab": {
          "base_uri": "https://localhost:8080/"
        },
        "id": "XVGuHJliRFML",
        "outputId": "d7c7b983-0fc3-4051-984f-e336e21b750b"
      },
      "outputs": [
        {
          "output_type": "stream",
          "name": "stdout",
          "text": [
            "Num classes:  3\n",
            "(16278,) (16278,)\n",
            "0.6196092886103944\t0.6023071536751834\t0.5957643257168029\t0.598113466714508\t0.6999566121951984\n",
            "[[ 549  242  433]\n",
            " [ 174 1464  468]\n",
            " [ 353  394 1349]]\n"
          ]
        }
      ],
      "source": [
        "clf = model(xTrain, yTrain, xDev, yDev, method = 'Decision Trees')"
      ]
    },
    {
      "cell_type": "code",
      "execution_count": 20,
      "metadata": {
        "colab": {
          "base_uri": "https://localhost:8080/"
        },
        "id": "_f3ttrlaRFML",
        "outputId": "589aa8f5-5808-4c6c-bc2d-fa732fd825b4"
      },
      "outputs": [
        {
          "output_type": "stream",
          "name": "stdout",
          "text": [
            "Num classes:  3\n",
            "(16278,) (16278,)\n",
            "0.6452266863251014\t0.6306181800425126\t0.6236179198341799\t0.626287122517113\t0.7205391762444489\n",
            "[[ 600  195  429]\n",
            " [ 170 1504  432]\n",
            " [ 327  372 1397]]\n"
          ]
        }
      ],
      "source": [
        "clf = model(xTrain, yTrain, xDev, yDev, method = 'MLP')"
      ]
    },
    {
      "cell_type": "code",
      "execution_count": 21,
      "metadata": {
        "colab": {
          "base_uri": "https://localhost:8080/"
        },
        "id": "rYZR3Q7bRFML",
        "outputId": "0c898361-ac91-4475-de63-1a2f72aa22cc"
      },
      "outputs": [
        {
          "output_type": "stream",
          "name": "stdout",
          "text": [
            "Num classes:  3\n",
            "(16278,) (16278,)\n",
            "0.5333579063767048\t0.5179227356682982\t0.49409991808210635\t0.4909140688000709\t0.6251523304782824\n",
            "[[ 306  226  692]\n",
            " [ 220 1074  812]\n",
            " [ 253  329 1514]]\n"
          ]
        }
      ],
      "source": [
        "clf = model(xTrain, yTrain, xDev, yDev, method = 'KNN')"
      ]
    },
    {
      "cell_type": "markdown",
      "metadata": {
        "id": "upJUGb6rRFML"
      },
      "source": [
        "### Evaluation"
      ]
    },
    {
      "cell_type": "code",
      "execution_count": 22,
      "metadata": {
        "id": "ExV5AgOKRFML"
      },
      "outputs": [],
      "source": [
        "acc_list = []\n",
        "precision_list = []\n",
        "recall_list = []\n",
        "f1_list = []\n",
        "# confusion_matrix =\n",
        "roc_auc_list = []"
      ]
    },
    {
      "cell_type": "code",
      "execution_count": 23,
      "metadata": {
        "colab": {
          "base_uri": "https://localhost:8080/",
          "height": 458
        },
        "id": "wEQb3-NfRFML",
        "outputId": "b2001f00-a47b-4057-80fb-a25fa0fb02b9"
      },
      "outputs": [
        {
          "output_type": "execute_result",
          "data": {
            "text/plain": [
              "0        2\n",
              "1        2\n",
              "2        0\n",
              "3        0\n",
              "4        0\n",
              "        ..\n",
              "43405    1\n",
              "43406    2\n",
              "43407    0\n",
              "43408    1\n",
              "43409    1\n",
              "Name: class_label, Length: 43410, dtype: int64"
            ],
            "text/html": [
              "<div>\n",
              "<style scoped>\n",
              "    .dataframe tbody tr th:only-of-type {\n",
              "        vertical-align: middle;\n",
              "    }\n",
              "\n",
              "    .dataframe tbody tr th {\n",
              "        vertical-align: top;\n",
              "    }\n",
              "\n",
              "    .dataframe thead th {\n",
              "        text-align: right;\n",
              "    }\n",
              "</style>\n",
              "<table border=\"1\" class=\"dataframe\">\n",
              "  <thead>\n",
              "    <tr style=\"text-align: right;\">\n",
              "      <th></th>\n",
              "      <th>class_label</th>\n",
              "    </tr>\n",
              "  </thead>\n",
              "  <tbody>\n",
              "    <tr>\n",
              "      <th>0</th>\n",
              "      <td>2</td>\n",
              "    </tr>\n",
              "    <tr>\n",
              "      <th>1</th>\n",
              "      <td>2</td>\n",
              "    </tr>\n",
              "    <tr>\n",
              "      <th>2</th>\n",
              "      <td>0</td>\n",
              "    </tr>\n",
              "    <tr>\n",
              "      <th>3</th>\n",
              "      <td>0</td>\n",
              "    </tr>\n",
              "    <tr>\n",
              "      <th>4</th>\n",
              "      <td>0</td>\n",
              "    </tr>\n",
              "    <tr>\n",
              "      <th>...</th>\n",
              "      <td>...</td>\n",
              "    </tr>\n",
              "    <tr>\n",
              "      <th>43405</th>\n",
              "      <td>1</td>\n",
              "    </tr>\n",
              "    <tr>\n",
              "      <th>43406</th>\n",
              "      <td>2</td>\n",
              "    </tr>\n",
              "    <tr>\n",
              "      <th>43407</th>\n",
              "      <td>0</td>\n",
              "    </tr>\n",
              "    <tr>\n",
              "      <th>43408</th>\n",
              "      <td>1</td>\n",
              "    </tr>\n",
              "    <tr>\n",
              "      <th>43409</th>\n",
              "      <td>1</td>\n",
              "    </tr>\n",
              "  </tbody>\n",
              "</table>\n",
              "<p>43410 rows × 1 columns</p>\n",
              "</div><br><label><b>dtype:</b> int64</label>"
            ]
          },
          "metadata": {},
          "execution_count": 23
        }
      ],
      "source": [
        "yTrain"
      ]
    },
    {
      "cell_type": "code",
      "execution_count": 28,
      "metadata": {
        "colab": {
          "base_uri": "https://localhost:8080/"
        },
        "id": "qx8Ptq_pRFML",
        "outputId": "a697c51f-3982-4170-f8f7-291dd2010d0b"
      },
      "outputs": [
        {
          "output_type": "stream",
          "name": "stdout",
          "text": [
            "Num classes:  3\n",
            "(16278,) (16278,)\n",
            "0.5333579063767048\t0.5179227356682982\t0.49409991808210635\t0.4909140688000709\t0.6251523304782824\n",
            "[[ 306  226  692]\n",
            " [ 220 1074  812]\n",
            " [ 253  329 1514]]\n"
          ]
        }
      ],
      "source": [
        "clf, acc, precision, recall, roc_auc, f1, confusion_matrix, fpr, tpr, thresholds = model(xTrain, yTrain, xDev, yDev, method = 'KNN')\n"
      ]
    },
    {
      "cell_type": "code",
      "execution_count": 29,
      "metadata": {
        "colab": {
          "base_uri": "https://localhost:8080/"
        },
        "id": "wiOpqkESRFML",
        "outputId": "adf7a6f3-09de-4a0f-c6f4-67f0a618b75d"
      },
      "outputs": [
        {
          "output_type": "execute_result",
          "data": {
            "text/plain": [
              "(array([0.        , 0.23332105, 1.        ]),\n",
              " array([0.        , 0.53335791, 1.        ]),\n",
              " array([inf,  1.,  0.]))"
            ]
          },
          "metadata": {},
          "execution_count": 29
        }
      ],
      "source": [
        "fpr, tpr, thresholds"
      ]
    },
    {
      "cell_type": "code",
      "execution_count": 30,
      "metadata": {
        "id": "shAbxbQrRFML"
      },
      "outputs": [],
      "source": [
        "acc_list.append(acc)\n",
        "precision_list.append(precision)\n",
        "recall_list.append(recall)\n",
        "roc_auc_list.append(roc_auc)\n",
        "f1_list.append(f1)"
      ]
    },
    {
      "cell_type": "code",
      "source": [
        "clf, acc, precision, recall, roc_auc, f1, confusion_matrix, *_ = model(xTrain, yTrain, xDev, yDev, method='Naive Bayes')\n",
        "print(confusion_matrix)\n"
      ],
      "metadata": {
        "colab": {
          "base_uri": "https://localhost:8080/"
        },
        "id": "nS1u9wkJacpT",
        "outputId": "da11182e-cbc4-473a-f6dc-8becbef47498"
      },
      "execution_count": 32,
      "outputs": [
        {
          "output_type": "stream",
          "name": "stdout",
          "text": [
            "Num classes:  3\n",
            "(16278,) (16278,)\n",
            "0.6444894950239587\t0.6350129472893912\t0.6132510170796605\t0.6174241641027123\t0.7134700171986642\n",
            "[[ 515  273  436]\n",
            " [ 107 1637  362]\n",
            " [ 231  520 1345]]\n",
            "[[ 515  273  436]\n",
            " [ 107 1637  362]\n",
            " [ 231  520 1345]]\n"
          ]
        }
      ]
    },
    {
      "cell_type": "code",
      "execution_count": 33,
      "metadata": {
        "id": "XRO_ceSZRFMM"
      },
      "outputs": [],
      "source": [
        "acc_list.append(acc)\n",
        "precision_list.append(precision)\n",
        "recall_list.append(recall)\n",
        "roc_auc_list.append(roc_auc)\n",
        "f1_list.append(f1)"
      ]
    },
    {
      "cell_type": "code",
      "execution_count": 35,
      "metadata": {
        "colab": {
          "base_uri": "https://localhost:8080/"
        },
        "id": "UJM7NGLURFMM",
        "outputId": "d9364c33-78bb-4cac-89b6-9b06be2eacfb"
      },
      "outputs": [
        {
          "output_type": "stream",
          "name": "stdout",
          "text": [
            "Num classes:  3\n",
            "(16278,) (16278,)\n",
            "0.6170291190563951\t0.5996862761755074\t0.5938785119827129\t0.596038445018212\t0.6984158133335229\n",
            "[[ 552  239  433]\n",
            " [ 178 1463  465]\n",
            " [ 359  404 1333]]\n"
          ]
        }
      ],
      "source": [
        "clf, acc, precision, recall, roc_auc, f1, confusion_matrix, *_= model(xTrain, yTrain, xDev, yDev, method = 'Decision Trees')"
      ]
    },
    {
      "cell_type": "code",
      "execution_count": 36,
      "metadata": {
        "id": "NEKOSTERRFMM"
      },
      "outputs": [],
      "source": [
        "acc_list.append(acc)\n",
        "precision_list.append(precision)\n",
        "recall_list.append(recall)\n",
        "roc_auc_list.append(roc_auc)\n",
        "f1_list.append(f1)"
      ]
    },
    {
      "cell_type": "code",
      "execution_count": 37,
      "metadata": {
        "colab": {
          "base_uri": "https://localhost:8080/"
        },
        "id": "GaDZmVW-RFMP",
        "outputId": "9997cf28-8e75-4fdb-a1b6-2ace45b1c7fa"
      },
      "outputs": [
        {
          "output_type": "stream",
          "name": "stdout",
          "text": [
            "Num classes:  3\n",
            "(16278,) (16278,)\n",
            "0.6516771102100996\t0.6380073370006115\t0.6320074677761901\t0.6344344574735692\t0.7264011032530099\n",
            "[[ 625  202  397]\n",
            " [ 163 1516  427]\n",
            " [ 326  375 1395]]\n"
          ]
        }
      ],
      "source": [
        "clf, acc, precision, recall, roc_auc, f1, confusion_matrix, *_ = model(xTrain, yTrain, xDev, yDev, method = 'MLP')"
      ]
    },
    {
      "cell_type": "code",
      "execution_count": 38,
      "metadata": {
        "id": "G4P72kMqRFMQ"
      },
      "outputs": [],
      "source": [
        "acc_list.append(acc)\n",
        "precision_list.append(precision)\n",
        "recall_list.append(recall)\n",
        "roc_auc_list.append(roc_auc)\n",
        "f1_list.append(f1)"
      ]
    },
    {
      "cell_type": "code",
      "execution_count": 39,
      "metadata": {
        "colab": {
          "base_uri": "https://localhost:8080/"
        },
        "id": "RH8CO29sRFMQ",
        "outputId": "ce684c91-d1f3-4f1d-accb-7b55cc3d79b8"
      },
      "outputs": [
        {
          "output_type": "stream",
          "name": "stdout",
          "text": [
            "[0.5333579063767048, 0.6444894950239587, 0.6170291190563951, 0.6516771102100996]\n",
            "[0.5179227356682982, 0.6350129472893912, 0.5996862761755074, 0.6380073370006115]\n",
            "[0.49409991808210635, 0.6132510170796605, 0.5938785119827129, 0.6320074677761901]\n",
            "[0.6251523304782824, 0.7134700171986642, 0.6984158133335229, 0.7264011032530099]\n",
            "[0.4909140688000709, 0.6174241641027123, 0.596038445018212, 0.6344344574735692]\n"
          ]
        }
      ],
      "source": [
        "print(acc_list)\n",
        "print(precision_list)\n",
        "print(recall_list)\n",
        "print(roc_auc_list)\n",
        "print(f1_list)"
      ]
    },
    {
      "cell_type": "code",
      "execution_count": 40,
      "metadata": {
        "id": "PbddPNg5RFMQ"
      },
      "outputs": [],
      "source": [
        "xrange = [1, 2, 3, 4]\n",
        "xlabels = ['KNN', 'Naive Bayes', 'Decision Tree', 'MLP']"
      ]
    },
    {
      "cell_type": "code",
      "execution_count": 41,
      "metadata": {
        "colab": {
          "base_uri": "https://localhost:8080/",
          "height": 449
        },
        "id": "m3lbLhaFRFMQ",
        "outputId": "f1b2dd50-2c52-437e-ba12-ab0f004e4c31"
      },
      "outputs": [
        {
          "output_type": "display_data",
          "data": {
            "text/plain": [
              "<Figure size 640x480 with 1 Axes>"
            ],
            "image/png": "[encoded data removed]"
          },
          "metadata": {}
        }
      ],
      "source": [
        "plt.plot(xrange, acc_list, '-ro')\n",
        "plt.xticks(xrange, labels = xlabels)\n",
        "plt.xlabel(\"Model\")\n",
        "plt.ylabel(\"Accuracy\")\n",
        "plt.show()"
      ]
    },
    {
      "cell_type": "code",
      "execution_count": 42,
      "metadata": {
        "colab": {
          "base_uri": "https://localhost:8080/",
          "height": 449
        },
        "id": "-wkHWmhmRFMQ",
        "outputId": "1607ca9e-c587-4e7f-83f2-9a9ebc457073"
      },
      "outputs": [
        {
          "output_type": "display_data",
          "data": {
            "text/plain": [
              "<Figure size 640x480 with 1 Axes>"
            ],
            "image/png": "[encoded data removed]"
          },
          "metadata": {}
        }
      ],
      "source": [
        "plt.plot(xrange, precision_list, '-ro')\n",
        "plt.xticks(xrange, labels = xlabels)\n",
        "plt.xlabel(\"Model\")\n",
        "plt.ylabel(\"Precision\")\n",
        "plt.show()"
      ]
    },
    {
      "cell_type": "code",
      "execution_count": 43,
      "metadata": {
        "colab": {
          "base_uri": "https://localhost:8080/",
          "height": 449
        },
        "id": "evBLc0QxRFMQ",
        "outputId": "810b68ea-2197-47a6-a51d-2793db30f6bd"
      },
      "outputs": [
        {
          "output_type": "display_data",
          "data": {
            "text/plain": [
              "<Figure size 640x480 with 1 Axes>"
            ],
            "image/png": "[encoded data removed]"
          },
          "metadata": {}
        }
      ],
      "source": [
        "plt.plot(xrange, recall_list, '-ro')\n",
        "plt.xticks(xrange, labels = xlabels)\n",
        "plt.xlabel(\"Model\")\n",
        "plt.ylabel(\"Recall\")\n",
        "plt.show()"
      ]
    },
    {
      "cell_type": "code",
      "execution_count": 44,
      "metadata": {
        "colab": {
          "base_uri": "https://localhost:8080/",
          "height": 451
        },
        "id": "qT5bW3dNRFMQ",
        "outputId": "d55e1abb-a9c4-4985-a22a-77f62a36a666"
      },
      "outputs": [
        {
          "output_type": "display_data",
          "data": {
            "text/plain": [
              "<Figure size 640x480 with 1 Axes>"
            ],
            "image/png": "[encoded data removed]"
          },
          "metadata": {}
        }
      ],
      "source": [
        "plt.plot(xrange, f1_list, '-ro')\n",
        "plt.xticks(xrange, labels = xlabels)\n",
        "plt.xlabel(\"Model\")\n",
        "plt.ylabel(\"F1-score\")\n",
        "plt.show()"
      ]
    },
    {
      "cell_type": "code",
      "execution_count": 45,
      "metadata": {
        "id": "APr9tAh5RFMQ"
      },
      "outputs": [],
      "source": [
        "acc_list = [0.5350165868042757, 0.6444894950239587, 0.6098415038702544, 0.6514928123848138]\n",
        "precision_list = [0.5184507479851588, 0.634880350293078, 0.590477096183133, 0.6357280239000141]\n",
        "recall_list = [0.49495868427041406, 0.6132510170796605, 0.5838293733288246, 0.6333016759693156]\n",
        "f1_list = [0.625990618431603, 0.7134802528433225, 0.6915240415219852, 0.7273679972856814]\n",
        "roc_auc_list = [0.49146066340947286, 0.6173914339319024, 0.5860548723771274, 0.6343716809302775]"
      ]
    },
    {
      "cell_type": "code",
      "execution_count": 46,
      "metadata": {
        "colab": {
          "base_uri": "https://localhost:8080/",
          "height": 449
        },
        "id": "_D9wMva0RFMQ",
        "outputId": "203255b7-3970-46f2-9d27-d087c3e690fa"
      },
      "outputs": [
        {
          "output_type": "display_data",
          "data": {
            "text/plain": [
              "<Figure size 640x480 with 1 Axes>"
            ],
            "image/png": "[encoded data removed]"
          },
          "metadata": {}
        }
      ],
      "source": [
        "# %matplotlib tk\n",
        "plt.plot(xrange, acc_list, '-ro', label = \"Accuracy\")\n",
        "plt.plot(xrange, precision_list, '-bo', label = \"Precision\")\n",
        "plt.plot(xrange, recall_list, '-yo', label = \"Recall\")\n",
        "plt.plot(xrange, f1_list, '-go', label = \"F1-score\")\n",
        "plt.plot(xrange, roc_auc_list, '-mo', label = \"ROC-AUC\")\n",
        "plt.xticks(xrange, labels = xlabels)\n",
        "plt.xlabel(\"Model\")\n",
        "plt.legend()\n",
        "plt.show()"
      ]
    }
  ],
  "metadata": {
    "kernelspec": {
      "display_name": "Python 3",
      "name": "python3"
    },
    "language_info": {
      "codemirror_mode": {
        "name": "ipython",
        "version": 3
      },
      "file_extension": ".py",
      "mimetype": "text/x-python",
      "name": "python",
      "nbconvert_exporter": "python",
      "pygments_lexer": "ipython3",
      "version": "3.6.10"
    },
    "colab": {
      "provenance": []
    }
  },
  "nbformat": 4,
  "nbformat_minor": 0
}